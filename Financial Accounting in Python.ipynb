{
 "cells": [
  {
   "cell_type": "markdown",
   "metadata": {},
   "source": [
    "### Import Libraries"
   ]
  },
  {
   "cell_type": "code",
   "execution_count": 1,
   "metadata": {
    "execution": {
     "iopub.execute_input": "2023-09-12T17:08:47.525898Z",
     "iopub.status.busy": "2023-09-12T17:08:47.525526Z",
     "iopub.status.idle": "2023-09-12T17:08:47.952089Z",
     "shell.execute_reply": "2023-09-12T17:08:47.951075Z",
     "shell.execute_reply.started": "2023-09-12T17:08:47.525856Z"
    }
   },
   "outputs": [],
   "source": [
    "import pandas as pd"
   ]
  },
  {
   "cell_type": "markdown",
   "metadata": {},
   "source": [
    "### Import Dataset"
   ]
  },
  {
   "cell_type": "code",
   "execution_count": 2,
   "metadata": {
    "execution": {
     "iopub.execute_input": "2023-09-12T17:08:47.954962Z",
     "iopub.status.busy": "2023-09-12T17:08:47.954364Z",
     "iopub.status.idle": "2023-09-12T17:08:48.381535Z",
     "shell.execute_reply": "2023-09-12T17:08:48.380319Z",
     "shell.execute_reply.started": "2023-09-12T17:08:47.954921Z"
    }
   },
   "outputs": [
    {
     "data": {
      "text/html": [
       "<div>\n",
       "<style scoped>\n",
       "    .dataframe tbody tr th:only-of-type {\n",
       "        vertical-align: middle;\n",
       "    }\n",
       "\n",
       "    .dataframe tbody tr th {\n",
       "        vertical-align: top;\n",
       "    }\n",
       "\n",
       "    .dataframe thead th {\n",
       "        text-align: right;\n",
       "    }\n",
       "</style>\n",
       "<table border=\"1\" class=\"dataframe\">\n",
       "  <thead>\n",
       "    <tr style=\"text-align: right;\">\n",
       "      <th></th>\n",
       "      <th>Date</th>\n",
       "      <th>Account</th>\n",
       "      <th>Description</th>\n",
       "      <th>Debit</th>\n",
       "      <th>Credit</th>\n",
       "      <th>Category</th>\n",
       "      <th>Transaction_Type</th>\n",
       "      <th>Customer_Vendor</th>\n",
       "      <th>Payment_Method</th>\n",
       "      <th>Reference</th>\n",
       "    </tr>\n",
       "  </thead>\n",
       "  <tbody>\n",
       "    <tr>\n",
       "      <th>0</th>\n",
       "      <td>2023-08-21</td>\n",
       "      <td>Accounts Payable</td>\n",
       "      <td>Transaction 1</td>\n",
       "      <td>112.56</td>\n",
       "      <td>112.56</td>\n",
       "      <td>Asset</td>\n",
       "      <td>Sale</td>\n",
       "      <td>Customer 39</td>\n",
       "      <td>Cash</td>\n",
       "      <td>67471</td>\n",
       "    </tr>\n",
       "    <tr>\n",
       "      <th>1</th>\n",
       "      <td>2023-08-13</td>\n",
       "      <td>Accounts Receivable</td>\n",
       "      <td>Transaction 2</td>\n",
       "      <td>775.86</td>\n",
       "      <td>775.86</td>\n",
       "      <td>Revenue</td>\n",
       "      <td>Purchase</td>\n",
       "      <td>Customer 3</td>\n",
       "      <td>Check</td>\n",
       "      <td>92688</td>\n",
       "    </tr>\n",
       "    <tr>\n",
       "      <th>2</th>\n",
       "      <td>2023-05-11</td>\n",
       "      <td>Accounts Receivable</td>\n",
       "      <td>Transaction 3</td>\n",
       "      <td>332.81</td>\n",
       "      <td>332.81</td>\n",
       "      <td>Revenue</td>\n",
       "      <td>Transfer</td>\n",
       "      <td>Customer 36</td>\n",
       "      <td>Check</td>\n",
       "      <td>72066</td>\n",
       "    </tr>\n",
       "    <tr>\n",
       "      <th>3</th>\n",
       "      <td>2023-02-26</td>\n",
       "      <td>Accounts Receivable</td>\n",
       "      <td>Transaction 4</td>\n",
       "      <td>203.71</td>\n",
       "      <td>203.71</td>\n",
       "      <td>Asset</td>\n",
       "      <td>Purchase</td>\n",
       "      <td>Customer 57</td>\n",
       "      <td>Check</td>\n",
       "      <td>27973</td>\n",
       "    </tr>\n",
       "    <tr>\n",
       "      <th>4</th>\n",
       "      <td>2023-11-06</td>\n",
       "      <td>Accounts Receivable</td>\n",
       "      <td>Transaction 5</td>\n",
       "      <td>986.26</td>\n",
       "      <td>986.26</td>\n",
       "      <td>Asset</td>\n",
       "      <td>Expense</td>\n",
       "      <td>Customer 92</td>\n",
       "      <td>Check</td>\n",
       "      <td>29758</td>\n",
       "    </tr>\n",
       "  </tbody>\n",
       "</table>\n",
       "</div>"
      ],
      "text/plain": [
       "         Date              Account    Description   Debit  Credit Category  \\\n",
       "0  2023-08-21     Accounts Payable  Transaction 1  112.56  112.56    Asset   \n",
       "1  2023-08-13  Accounts Receivable  Transaction 2  775.86  775.86  Revenue   \n",
       "2  2023-05-11  Accounts Receivable  Transaction 3  332.81  332.81  Revenue   \n",
       "3  2023-02-26  Accounts Receivable  Transaction 4  203.71  203.71    Asset   \n",
       "4  2023-11-06  Accounts Receivable  Transaction 5  986.26  986.26    Asset   \n",
       "\n",
       "  Transaction_Type Customer_Vendor Payment_Method  Reference  \n",
       "0             Sale     Customer 39           Cash      67471  \n",
       "1         Purchase      Customer 3          Check      92688  \n",
       "2         Transfer     Customer 36          Check      72066  \n",
       "3         Purchase     Customer 57          Check      27973  \n",
       "4          Expense     Customer 92          Check      29758  "
      ]
     },
     "execution_count": 2,
     "metadata": {},
     "output_type": "execute_result"
    }
   ],
   "source": [
    "df = pd.read_csv(\"financial_accounting.csv\")\n",
    "df.head()"
   ]
  },
  {
   "cell_type": "markdown",
   "metadata": {},
   "source": [
    "### Financial Accounting"
   ]
  },
  {
   "cell_type": "markdown",
   "metadata": {},
   "source": [
    "**1. Calculate Total Debits and Credits**"
   ]
  },
  {
   "cell_type": "code",
   "execution_count": 3,
   "metadata": {
    "execution": {
     "iopub.execute_input": "2023-09-12T17:08:48.383376Z",
     "iopub.status.busy": "2023-09-12T17:08:48.382951Z",
     "iopub.status.idle": "2023-09-12T17:08:48.391222Z",
     "shell.execute_reply": "2023-09-12T17:08:48.389975Z",
     "shell.execute_reply.started": "2023-09-12T17:08:48.383348Z"
    }
   },
   "outputs": [
    {
     "name": "stdout",
     "output_type": "stream",
     "text": [
      "Total Debit = $60,774,736.83\n",
      "Total Credit = $60,774,736.83\n"
     ]
    }
   ],
   "source": [
    "debits = df[\"Debit\"].sum()\n",
    "credits = df[\"Credit\"].sum()\n",
    "\n",
    "print(\"Total Debit = $\" + str(\"{:,}\".format(debits.round(2))))\n",
    "print(\"Total Credit = $\" + str(\"{:,}\".format(credits.round(2))))"
   ]
  },
  {
   "cell_type": "markdown",
   "metadata": {},
   "source": [
    "**2. Calculate Account Balance \"Cash\"**"
   ]
  },
  {
   "cell_type": "code",
   "execution_count": 4,
   "metadata": {
    "execution": {
     "iopub.execute_input": "2023-09-12T17:08:48.395105Z",
     "iopub.status.busy": "2023-09-12T17:08:48.394240Z",
     "iopub.status.idle": "2023-09-12T17:08:48.430946Z",
     "shell.execute_reply": "2023-09-12T17:08:48.429798Z",
     "shell.execute_reply.started": "2023-09-12T17:08:48.395059Z"
    }
   },
   "outputs": [
    {
     "name": "stdout",
     "output_type": "stream",
     "text": [
      "Cash Account Balance = $0.0\n"
     ]
    }
   ],
   "source": [
    "cash_transaction = df[df[\"Account\"] == \"Cash\"]\n",
    "\n",
    "cash_balance = cash_transaction[\"Debit\"].sum() - cash_transaction[\"Credit\"].sum()\n",
    "\n",
    "print(\"Cash Account Balance = $\" + str(cash_balance))"
   ]
  },
  {
   "cell_type": "markdown",
   "metadata": {},
   "source": [
    "**3. Calculate Net Profit (Revenue - Expenses)**"
   ]
  },
  {
   "cell_type": "code",
   "execution_count": 5,
   "metadata": {
    "execution": {
     "iopub.execute_input": "2023-09-12T17:08:48.432615Z",
     "iopub.status.busy": "2023-09-12T17:08:48.432332Z",
     "iopub.status.idle": "2023-09-12T17:08:48.484155Z",
     "shell.execute_reply": "2023-09-12T17:08:48.483115Z",
     "shell.execute_reply.started": "2023-09-12T17:08:48.432590Z"
    }
   },
   "outputs": [
    {
     "name": "stdout",
     "output_type": "stream",
     "text": [
      "Net Profit = $104,451.02\n"
     ]
    }
   ],
   "source": [
    "# Filter Transactions\n",
    "revenue_transaction = df[df[\"Category\"] == \"Revenue\"]\n",
    "expense_transaction = df[df[\"Category\"] == \"Expense\"]\n",
    "\n",
    "# Calculate Total Revenue & Expense\n",
    "total_revenue = revenue_transaction[\"Credit\"].sum()\n",
    "total_expense = expense_transaction[\"Debit\"].sum()\n",
    "\n",
    "# Calculate Net Profit\n",
    "net_profit = total_revenue - total_expense\n",
    "print(\"Net Profit = $\" + str(\"{:,}\".format(net_profit.round(2))))"
   ]
  },
  {
   "cell_type": "markdown",
   "metadata": {},
   "source": [
    "**4. Find Transactions for a Specific Customer or Vendor**"
   ]
  },
  {
   "cell_type": "code",
   "execution_count": 6,
   "metadata": {
    "execution": {
     "iopub.execute_input": "2023-09-12T17:08:48.485840Z",
     "iopub.status.busy": "2023-09-12T17:08:48.485551Z",
     "iopub.status.idle": "2023-09-12T17:08:48.531534Z",
     "shell.execute_reply": "2023-09-12T17:08:48.530305Z",
     "shell.execute_reply.started": "2023-09-12T17:08:48.485815Z"
    }
   },
   "outputs": [
    {
     "data": {
      "text/html": [
       "<div>\n",
       "<style scoped>\n",
       "    .dataframe tbody tr th:only-of-type {\n",
       "        vertical-align: middle;\n",
       "    }\n",
       "\n",
       "    .dataframe tbody tr th {\n",
       "        vertical-align: top;\n",
       "    }\n",
       "\n",
       "    .dataframe thead th {\n",
       "        text-align: right;\n",
       "    }\n",
       "</style>\n",
       "<table border=\"1\" class=\"dataframe\">\n",
       "  <thead>\n",
       "    <tr style=\"text-align: right;\">\n",
       "      <th></th>\n",
       "      <th>Date</th>\n",
       "      <th>Account</th>\n",
       "      <th>Description</th>\n",
       "      <th>Debit</th>\n",
       "      <th>Credit</th>\n",
       "      <th>Category</th>\n",
       "      <th>Transaction_Type</th>\n",
       "      <th>Customer_Vendor</th>\n",
       "      <th>Payment_Method</th>\n",
       "      <th>Reference</th>\n",
       "    </tr>\n",
       "  </thead>\n",
       "  <tbody>\n",
       "    <tr>\n",
       "      <th>34</th>\n",
       "      <td>2023-02-28</td>\n",
       "      <td>Inventory</td>\n",
       "      <td>Transaction 35</td>\n",
       "      <td>376.11</td>\n",
       "      <td>376.11</td>\n",
       "      <td>Expense</td>\n",
       "      <td>Transfer</td>\n",
       "      <td>Customer 46</td>\n",
       "      <td>Check</td>\n",
       "      <td>25242</td>\n",
       "    </tr>\n",
       "    <tr>\n",
       "      <th>41</th>\n",
       "      <td>2023-11-15</td>\n",
       "      <td>Inventory</td>\n",
       "      <td>Transaction 42</td>\n",
       "      <td>975.01</td>\n",
       "      <td>975.01</td>\n",
       "      <td>Expense</td>\n",
       "      <td>Expense</td>\n",
       "      <td>Customer 46</td>\n",
       "      <td>Bank Transfer</td>\n",
       "      <td>92447</td>\n",
       "    </tr>\n",
       "    <tr>\n",
       "      <th>72</th>\n",
       "      <td>2023-07-03</td>\n",
       "      <td>Inventory</td>\n",
       "      <td>Transaction 73</td>\n",
       "      <td>683.34</td>\n",
       "      <td>683.34</td>\n",
       "      <td>Liability</td>\n",
       "      <td>Expense</td>\n",
       "      <td>Customer 46</td>\n",
       "      <td>Check</td>\n",
       "      <td>75672</td>\n",
       "    </tr>\n",
       "    <tr>\n",
       "      <th>132</th>\n",
       "      <td>2023-12-07</td>\n",
       "      <td>Accounts Receivable</td>\n",
       "      <td>Transaction 133</td>\n",
       "      <td>443.97</td>\n",
       "      <td>443.97</td>\n",
       "      <td>Revenue</td>\n",
       "      <td>Sale</td>\n",
       "      <td>Customer 46</td>\n",
       "      <td>Credit Card</td>\n",
       "      <td>46517</td>\n",
       "    </tr>\n",
       "    <tr>\n",
       "      <th>151</th>\n",
       "      <td>2023-02-26</td>\n",
       "      <td>Accounts Payable</td>\n",
       "      <td>Transaction 152</td>\n",
       "      <td>604.83</td>\n",
       "      <td>604.83</td>\n",
       "      <td>Liability</td>\n",
       "      <td>Sale</td>\n",
       "      <td>Customer 46</td>\n",
       "      <td>Credit Card</td>\n",
       "      <td>44713</td>\n",
       "    </tr>\n",
       "    <tr>\n",
       "      <th>...</th>\n",
       "      <td>...</td>\n",
       "      <td>...</td>\n",
       "      <td>...</td>\n",
       "      <td>...</td>\n",
       "      <td>...</td>\n",
       "      <td>...</td>\n",
       "      <td>...</td>\n",
       "      <td>...</td>\n",
       "      <td>...</td>\n",
       "      <td>...</td>\n",
       "    </tr>\n",
       "    <tr>\n",
       "      <th>99499</th>\n",
       "      <td>2023-10-21</td>\n",
       "      <td>Accounts Payable</td>\n",
       "      <td>Transaction 99500</td>\n",
       "      <td>852.12</td>\n",
       "      <td>852.12</td>\n",
       "      <td>Asset</td>\n",
       "      <td>Expense</td>\n",
       "      <td>Customer 46</td>\n",
       "      <td>Credit Card</td>\n",
       "      <td>51035</td>\n",
       "    </tr>\n",
       "    <tr>\n",
       "      <th>99619</th>\n",
       "      <td>2023-08-19</td>\n",
       "      <td>Accounts Payable</td>\n",
       "      <td>Transaction 99620</td>\n",
       "      <td>614.46</td>\n",
       "      <td>614.46</td>\n",
       "      <td>Liability</td>\n",
       "      <td>Expense</td>\n",
       "      <td>Customer 46</td>\n",
       "      <td>Cash</td>\n",
       "      <td>41025</td>\n",
       "    </tr>\n",
       "    <tr>\n",
       "      <th>99753</th>\n",
       "      <td>2023-12-07</td>\n",
       "      <td>Inventory</td>\n",
       "      <td>Transaction 99754</td>\n",
       "      <td>409.26</td>\n",
       "      <td>409.26</td>\n",
       "      <td>Liability</td>\n",
       "      <td>Expense</td>\n",
       "      <td>Customer 46</td>\n",
       "      <td>Check</td>\n",
       "      <td>17501</td>\n",
       "    </tr>\n",
       "    <tr>\n",
       "      <th>99765</th>\n",
       "      <td>2023-09-18</td>\n",
       "      <td>Accounts Receivable</td>\n",
       "      <td>Transaction 99766</td>\n",
       "      <td>750.20</td>\n",
       "      <td>750.20</td>\n",
       "      <td>Asset</td>\n",
       "      <td>Transfer</td>\n",
       "      <td>Customer 46</td>\n",
       "      <td>Credit Card</td>\n",
       "      <td>40712</td>\n",
       "    </tr>\n",
       "    <tr>\n",
       "      <th>99905</th>\n",
       "      <td>2023-05-17</td>\n",
       "      <td>Accounts Receivable</td>\n",
       "      <td>Transaction 99906</td>\n",
       "      <td>715.49</td>\n",
       "      <td>715.49</td>\n",
       "      <td>Expense</td>\n",
       "      <td>Expense</td>\n",
       "      <td>Customer 46</td>\n",
       "      <td>Credit Card</td>\n",
       "      <td>86122</td>\n",
       "    </tr>\n",
       "  </tbody>\n",
       "</table>\n",
       "<p>1001 rows × 10 columns</p>\n",
       "</div>"
      ],
      "text/plain": [
       "             Date              Account        Description   Debit  Credit  \\\n",
       "34     2023-02-28            Inventory     Transaction 35  376.11  376.11   \n",
       "41     2023-11-15            Inventory     Transaction 42  975.01  975.01   \n",
       "72     2023-07-03            Inventory     Transaction 73  683.34  683.34   \n",
       "132    2023-12-07  Accounts Receivable    Transaction 133  443.97  443.97   \n",
       "151    2023-02-26     Accounts Payable    Transaction 152  604.83  604.83   \n",
       "...           ...                  ...                ...     ...     ...   \n",
       "99499  2023-10-21     Accounts Payable  Transaction 99500  852.12  852.12   \n",
       "99619  2023-08-19     Accounts Payable  Transaction 99620  614.46  614.46   \n",
       "99753  2023-12-07            Inventory  Transaction 99754  409.26  409.26   \n",
       "99765  2023-09-18  Accounts Receivable  Transaction 99766  750.20  750.20   \n",
       "99905  2023-05-17  Accounts Receivable  Transaction 99906  715.49  715.49   \n",
       "\n",
       "        Category Transaction_Type Customer_Vendor Payment_Method  Reference  \n",
       "34       Expense         Transfer     Customer 46          Check      25242  \n",
       "41       Expense          Expense     Customer 46  Bank Transfer      92447  \n",
       "72     Liability          Expense     Customer 46          Check      75672  \n",
       "132      Revenue             Sale     Customer 46    Credit Card      46517  \n",
       "151    Liability             Sale     Customer 46    Credit Card      44713  \n",
       "...          ...              ...             ...            ...        ...  \n",
       "99499      Asset          Expense     Customer 46    Credit Card      51035  \n",
       "99619  Liability          Expense     Customer 46           Cash      41025  \n",
       "99753  Liability          Expense     Customer 46          Check      17501  \n",
       "99765      Asset         Transfer     Customer 46    Credit Card      40712  \n",
       "99905    Expense          Expense     Customer 46    Credit Card      86122  \n",
       "\n",
       "[1001 rows x 10 columns]"
      ]
     },
     "execution_count": 6,
     "metadata": {},
     "output_type": "execute_result"
    }
   ],
   "source": [
    "specific_customer = df[df[\"Customer_Vendor\"] == \"Customer 46\"]\n",
    "specific_customer"
   ]
  },
  {
   "cell_type": "markdown",
   "metadata": {},
   "source": [
    "**5. Calculate Total Transactions by Account**"
   ]
  },
  {
   "cell_type": "code",
   "execution_count": 7,
   "metadata": {
    "execution": {
     "iopub.execute_input": "2023-09-12T17:08:48.533622Z",
     "iopub.status.busy": "2023-09-12T17:08:48.533249Z",
     "iopub.status.idle": "2023-09-12T17:08:48.567393Z",
     "shell.execute_reply": "2023-09-12T17:08:48.566165Z",
     "shell.execute_reply.started": "2023-09-12T17:08:48.533577Z"
    }
   },
   "outputs": [
    {
     "data": {
      "text/html": [
       "<div>\n",
       "<style scoped>\n",
       "    .dataframe tbody tr th:only-of-type {\n",
       "        vertical-align: middle;\n",
       "    }\n",
       "\n",
       "    .dataframe tbody tr th {\n",
       "        vertical-align: top;\n",
       "    }\n",
       "\n",
       "    .dataframe thead th {\n",
       "        text-align: right;\n",
       "    }\n",
       "</style>\n",
       "<table border=\"1\" class=\"dataframe\">\n",
       "  <thead>\n",
       "    <tr style=\"text-align: right;\">\n",
       "      <th></th>\n",
       "      <th>Account</th>\n",
       "      <th>Transactions</th>\n",
       "    </tr>\n",
       "  </thead>\n",
       "  <tbody>\n",
       "    <tr>\n",
       "      <th>0</th>\n",
       "      <td>Accounts Payable</td>\n",
       "      <td>25104</td>\n",
       "    </tr>\n",
       "    <tr>\n",
       "      <th>1</th>\n",
       "      <td>Inventory</td>\n",
       "      <td>25054</td>\n",
       "    </tr>\n",
       "    <tr>\n",
       "      <th>2</th>\n",
       "      <td>Accounts Receivable</td>\n",
       "      <td>25038</td>\n",
       "    </tr>\n",
       "    <tr>\n",
       "      <th>3</th>\n",
       "      <td>Cash</td>\n",
       "      <td>24804</td>\n",
       "    </tr>\n",
       "  </tbody>\n",
       "</table>\n",
       "</div>"
      ],
      "text/plain": [
       "               Account  Transactions\n",
       "0     Accounts Payable         25104\n",
       "1            Inventory         25054\n",
       "2  Accounts Receivable         25038\n",
       "3                 Cash         24804"
      ]
     },
     "execution_count": 7,
     "metadata": {},
     "output_type": "execute_result"
    }
   ],
   "source": [
    "transactions = df[\"Account\"].value_counts().to_frame().reset_index()\n",
    "transactions.columns = [\"Account\", \"Transactions\"]\n",
    "transactions"
   ]
  },
  {
   "cell_type": "markdown",
   "metadata": {},
   "source": [
    "**6. Find Transactions of a Specific Type**"
   ]
  },
  {
   "cell_type": "code",
   "execution_count": 8,
   "metadata": {
    "execution": {
     "iopub.execute_input": "2023-09-12T17:08:48.569392Z",
     "iopub.status.busy": "2023-09-12T17:08:48.568815Z",
     "iopub.status.idle": "2023-09-12T17:08:48.618853Z",
     "shell.execute_reply": "2023-09-12T17:08:48.617762Z",
     "shell.execute_reply.started": "2023-09-12T17:08:48.569361Z"
    }
   },
   "outputs": [
    {
     "data": {
      "text/html": [
       "<div>\n",
       "<style scoped>\n",
       "    .dataframe tbody tr th:only-of-type {\n",
       "        vertical-align: middle;\n",
       "    }\n",
       "\n",
       "    .dataframe tbody tr th {\n",
       "        vertical-align: top;\n",
       "    }\n",
       "\n",
       "    .dataframe thead th {\n",
       "        text-align: right;\n",
       "    }\n",
       "</style>\n",
       "<table border=\"1\" class=\"dataframe\">\n",
       "  <thead>\n",
       "    <tr style=\"text-align: right;\">\n",
       "      <th></th>\n",
       "      <th>Date</th>\n",
       "      <th>Account</th>\n",
       "      <th>Description</th>\n",
       "      <th>Debit</th>\n",
       "      <th>Credit</th>\n",
       "      <th>Category</th>\n",
       "      <th>Transaction_Type</th>\n",
       "      <th>Customer_Vendor</th>\n",
       "      <th>Payment_Method</th>\n",
       "      <th>Reference</th>\n",
       "    </tr>\n",
       "  </thead>\n",
       "  <tbody>\n",
       "    <tr>\n",
       "      <th>0</th>\n",
       "      <td>2023-08-21</td>\n",
       "      <td>Accounts Payable</td>\n",
       "      <td>Transaction 1</td>\n",
       "      <td>112.56</td>\n",
       "      <td>112.56</td>\n",
       "      <td>Asset</td>\n",
       "      <td>Sale</td>\n",
       "      <td>Customer 39</td>\n",
       "      <td>Cash</td>\n",
       "      <td>67471</td>\n",
       "    </tr>\n",
       "    <tr>\n",
       "      <th>7</th>\n",
       "      <td>2023-06-09</td>\n",
       "      <td>Cash</td>\n",
       "      <td>Transaction 8</td>\n",
       "      <td>786.53</td>\n",
       "      <td>786.53</td>\n",
       "      <td>Expense</td>\n",
       "      <td>Sale</td>\n",
       "      <td>Customer 62</td>\n",
       "      <td>Credit Card</td>\n",
       "      <td>29821</td>\n",
       "    </tr>\n",
       "    <tr>\n",
       "      <th>10</th>\n",
       "      <td>2023-02-09</td>\n",
       "      <td>Accounts Payable</td>\n",
       "      <td>Transaction 11</td>\n",
       "      <td>888.61</td>\n",
       "      <td>888.61</td>\n",
       "      <td>Asset</td>\n",
       "      <td>Sale</td>\n",
       "      <td>Customer 4</td>\n",
       "      <td>Cash</td>\n",
       "      <td>85111</td>\n",
       "    </tr>\n",
       "    <tr>\n",
       "      <th>18</th>\n",
       "      <td>2023-11-09</td>\n",
       "      <td>Accounts Payable</td>\n",
       "      <td>Transaction 19</td>\n",
       "      <td>459.15</td>\n",
       "      <td>459.15</td>\n",
       "      <td>Liability</td>\n",
       "      <td>Sale</td>\n",
       "      <td>Customer 74</td>\n",
       "      <td>Cash</td>\n",
       "      <td>47895</td>\n",
       "    </tr>\n",
       "    <tr>\n",
       "      <th>19</th>\n",
       "      <td>2023-12-09</td>\n",
       "      <td>Accounts Receivable</td>\n",
       "      <td>Transaction 20</td>\n",
       "      <td>261.30</td>\n",
       "      <td>261.30</td>\n",
       "      <td>Asset</td>\n",
       "      <td>Sale</td>\n",
       "      <td>Customer 1</td>\n",
       "      <td>Bank Transfer</td>\n",
       "      <td>80975</td>\n",
       "    </tr>\n",
       "    <tr>\n",
       "      <th>...</th>\n",
       "      <td>...</td>\n",
       "      <td>...</td>\n",
       "      <td>...</td>\n",
       "      <td>...</td>\n",
       "      <td>...</td>\n",
       "      <td>...</td>\n",
       "      <td>...</td>\n",
       "      <td>...</td>\n",
       "      <td>...</td>\n",
       "      <td>...</td>\n",
       "    </tr>\n",
       "    <tr>\n",
       "      <th>99985</th>\n",
       "      <td>2023-08-19</td>\n",
       "      <td>Accounts Receivable</td>\n",
       "      <td>Transaction 99986</td>\n",
       "      <td>737.61</td>\n",
       "      <td>737.61</td>\n",
       "      <td>Revenue</td>\n",
       "      <td>Sale</td>\n",
       "      <td>Customer 98</td>\n",
       "      <td>Credit Card</td>\n",
       "      <td>28431</td>\n",
       "    </tr>\n",
       "    <tr>\n",
       "      <th>99989</th>\n",
       "      <td>2023-07-11</td>\n",
       "      <td>Accounts Payable</td>\n",
       "      <td>Transaction 99990</td>\n",
       "      <td>112.22</td>\n",
       "      <td>112.22</td>\n",
       "      <td>Expense</td>\n",
       "      <td>Sale</td>\n",
       "      <td>Customer 80</td>\n",
       "      <td>Cash</td>\n",
       "      <td>45652</td>\n",
       "    </tr>\n",
       "    <tr>\n",
       "      <th>99990</th>\n",
       "      <td>2023-02-10</td>\n",
       "      <td>Accounts Payable</td>\n",
       "      <td>Transaction 99991</td>\n",
       "      <td>818.43</td>\n",
       "      <td>818.43</td>\n",
       "      <td>Liability</td>\n",
       "      <td>Sale</td>\n",
       "      <td>Customer 6</td>\n",
       "      <td>Bank Transfer</td>\n",
       "      <td>71350</td>\n",
       "    </tr>\n",
       "    <tr>\n",
       "      <th>99994</th>\n",
       "      <td>2023-04-04</td>\n",
       "      <td>Inventory</td>\n",
       "      <td>Transaction 99995</td>\n",
       "      <td>758.17</td>\n",
       "      <td>758.17</td>\n",
       "      <td>Asset</td>\n",
       "      <td>Sale</td>\n",
       "      <td>Customer 55</td>\n",
       "      <td>Bank Transfer</td>\n",
       "      <td>87697</td>\n",
       "    </tr>\n",
       "    <tr>\n",
       "      <th>99996</th>\n",
       "      <td>2023-09-14</td>\n",
       "      <td>Accounts Payable</td>\n",
       "      <td>Transaction 99997</td>\n",
       "      <td>785.01</td>\n",
       "      <td>785.01</td>\n",
       "      <td>Liability</td>\n",
       "      <td>Sale</td>\n",
       "      <td>Customer 77</td>\n",
       "      <td>Credit Card</td>\n",
       "      <td>43646</td>\n",
       "    </tr>\n",
       "  </tbody>\n",
       "</table>\n",
       "<p>25040 rows × 10 columns</p>\n",
       "</div>"
      ],
      "text/plain": [
       "             Date              Account        Description   Debit  Credit  \\\n",
       "0      2023-08-21     Accounts Payable      Transaction 1  112.56  112.56   \n",
       "7      2023-06-09                 Cash      Transaction 8  786.53  786.53   \n",
       "10     2023-02-09     Accounts Payable     Transaction 11  888.61  888.61   \n",
       "18     2023-11-09     Accounts Payable     Transaction 19  459.15  459.15   \n",
       "19     2023-12-09  Accounts Receivable     Transaction 20  261.30  261.30   \n",
       "...           ...                  ...                ...     ...     ...   \n",
       "99985  2023-08-19  Accounts Receivable  Transaction 99986  737.61  737.61   \n",
       "99989  2023-07-11     Accounts Payable  Transaction 99990  112.22  112.22   \n",
       "99990  2023-02-10     Accounts Payable  Transaction 99991  818.43  818.43   \n",
       "99994  2023-04-04            Inventory  Transaction 99995  758.17  758.17   \n",
       "99996  2023-09-14     Accounts Payable  Transaction 99997  785.01  785.01   \n",
       "\n",
       "        Category Transaction_Type Customer_Vendor Payment_Method  Reference  \n",
       "0          Asset             Sale     Customer 39           Cash      67471  \n",
       "7        Expense             Sale     Customer 62    Credit Card      29821  \n",
       "10         Asset             Sale      Customer 4           Cash      85111  \n",
       "18     Liability             Sale     Customer 74           Cash      47895  \n",
       "19         Asset             Sale      Customer 1  Bank Transfer      80975  \n",
       "...          ...              ...             ...            ...        ...  \n",
       "99985    Revenue             Sale     Customer 98    Credit Card      28431  \n",
       "99989    Expense             Sale     Customer 80           Cash      45652  \n",
       "99990  Liability             Sale      Customer 6  Bank Transfer      71350  \n",
       "99994      Asset             Sale     Customer 55  Bank Transfer      87697  \n",
       "99996  Liability             Sale     Customer 77    Credit Card      43646  \n",
       "\n",
       "[25040 rows x 10 columns]"
      ]
     },
     "execution_count": 8,
     "metadata": {},
     "output_type": "execute_result"
    }
   ],
   "source": [
    "sale_transaction = df[df[\"Transaction_Type\"] == \"Sale\"]\n",
    "sale_transaction"
   ]
  },
  {
   "cell_type": "markdown",
   "metadata": {},
   "source": [
    "**7. Calculate Average Transaction Amount**"
   ]
  },
  {
   "cell_type": "code",
   "execution_count": 9,
   "metadata": {
    "execution": {
     "iopub.execute_input": "2023-09-12T17:08:48.621306Z",
     "iopub.status.busy": "2023-09-12T17:08:48.620264Z",
     "iopub.status.idle": "2023-09-12T17:08:48.630404Z",
     "shell.execute_reply": "2023-09-12T17:08:48.629236Z",
     "shell.execute_reply.started": "2023-09-12T17:08:48.621269Z"
    }
   },
   "outputs": [
    {
     "name": "stdout",
     "output_type": "stream",
     "text": [
      "Average Debit Amount = $607.75\n",
      "Average Credit Amount = $607.75\n"
     ]
    }
   ],
   "source": [
    "average_debit = df[\"Debit\"].mean()\n",
    "average_credit = df[\"Credit\"].mean()\n",
    "\n",
    "print(\"Average Debit Amount = $\" + str(average_debit.round(2)))\n",
    "print(\"Average Credit Amount = $\" + str(average_credit.round(2)))"
   ]
  },
  {
   "cell_type": "markdown",
   "metadata": {},
   "source": [
    "**8. Find Largest Transaction Amount**"
   ]
  },
  {
   "cell_type": "code",
   "execution_count": 10,
   "metadata": {
    "execution": {
     "iopub.execute_input": "2023-09-12T17:08:48.635825Z",
     "iopub.status.busy": "2023-09-12T17:08:48.635513Z",
     "iopub.status.idle": "2023-09-12T17:08:48.645423Z",
     "shell.execute_reply": "2023-09-12T17:08:48.644251Z",
     "shell.execute_reply.started": "2023-09-12T17:08:48.635799Z"
    }
   },
   "outputs": [
    {
     "name": "stdout",
     "output_type": "stream",
     "text": [
      "Largest Debit Amount = $999.99\n",
      "Larget Credit Amount = $999.99\n"
     ]
    }
   ],
   "source": [
    "max_debit = df[\"Debit\"].max()\n",
    "max_credit = df[\"Credit\"].max()\n",
    "\n",
    "print(\"Largest Debit Amount = $\" + str(max_debit))\n",
    "print(\"Larget Credit Amount = $\" + str(max_credit))"
   ]
  },
  {
   "cell_type": "markdown",
   "metadata": {},
   "source": [
    "**9. Calculate Total Liabilities and Total Assets**"
   ]
  },
  {
   "cell_type": "code",
   "execution_count": 11,
   "metadata": {
    "execution": {
     "iopub.execute_input": "2023-09-12T17:08:48.647579Z",
     "iopub.status.busy": "2023-09-12T17:08:48.646546Z",
     "iopub.status.idle": "2023-09-12T17:08:48.703001Z",
     "shell.execute_reply": "2023-09-12T17:08:48.701919Z",
     "shell.execute_reply.started": "2023-09-12T17:08:48.647539Z"
    }
   },
   "outputs": [
    {
     "name": "stdout",
     "output_type": "stream",
     "text": [
      "Total Liabilities = $ 0.0\n",
      "Total Assets = $ 0.0\n"
     ]
    }
   ],
   "source": [
    "liability = df[df[\"Category\"] == \"Liability\"]\n",
    "asset = df[df[\"Category\"] == \"Asset\"]\n",
    "\n",
    "total_liabilities = liability[\"Credit\"].sum() - liability[\"Debit\"].sum()\n",
    "total_assets = asset[\"Credit\"].sum() - asset[\"Debit\"].sum()\n",
    "\n",
    "print(\"Total Liabilities = $\", total_liabilities)\n",
    "print(\"Total Assets = $\", total_assets)"
   ]
  },
  {
   "cell_type": "markdown",
   "metadata": {},
   "source": [
    "**10. Generate a Balance Sheet**"
   ]
  },
  {
   "cell_type": "code",
   "execution_count": 12,
   "metadata": {
    "execution": {
     "iopub.execute_input": "2023-09-12T17:08:48.704605Z",
     "iopub.status.busy": "2023-09-12T17:08:48.704281Z",
     "iopub.status.idle": "2023-09-12T17:08:48.767206Z",
     "shell.execute_reply": "2023-09-12T17:08:48.765977Z",
     "shell.execute_reply.started": "2023-09-12T17:08:48.704577Z"
    }
   },
   "outputs": [
    {
     "data": {
      "text/html": [
       "<div>\n",
       "<style scoped>\n",
       "    .dataframe tbody tr th:only-of-type {\n",
       "        vertical-align: middle;\n",
       "    }\n",
       "\n",
       "    .dataframe tbody tr th {\n",
       "        vertical-align: top;\n",
       "    }\n",
       "\n",
       "    .dataframe thead th {\n",
       "        text-align: right;\n",
       "    }\n",
       "</style>\n",
       "<table border=\"1\" class=\"dataframe\">\n",
       "  <thead>\n",
       "    <tr style=\"text-align: right;\">\n",
       "      <th></th>\n",
       "      <th>Category</th>\n",
       "      <th>Amount</th>\n",
       "    </tr>\n",
       "  </thead>\n",
       "  <tbody>\n",
       "    <tr>\n",
       "      <th>0</th>\n",
       "      <td>Assets</td>\n",
       "      <td>0.0</td>\n",
       "    </tr>\n",
       "    <tr>\n",
       "      <th>1</th>\n",
       "      <td>Liabilities</td>\n",
       "      <td>0.0</td>\n",
       "    </tr>\n",
       "    <tr>\n",
       "      <th>2</th>\n",
       "      <td>Equity</td>\n",
       "      <td>0.0</td>\n",
       "    </tr>\n",
       "  </tbody>\n",
       "</table>\n",
       "</div>"
      ],
      "text/plain": [
       "      Category  Amount\n",
       "0       Assets     0.0\n",
       "1  Liabilities     0.0\n",
       "2       Equity     0.0"
      ]
     },
     "execution_count": 12,
     "metadata": {},
     "output_type": "execute_result"
    }
   ],
   "source": [
    "# Filter transactions for liabilities and assets\n",
    "liability_transactions = df[df['Category'] == 'Liability']\n",
    "asset_transactions = df[df['Category'] == 'Asset']\n",
    "\n",
    "# Calculate total liabilities and assets\n",
    "total_liabilities = liability_transactions['Credit'].sum() - liability_transactions['Debit'].sum()\n",
    "total_assets = asset_transactions['Debit'].sum() - asset_transactions['Credit'].sum()\n",
    "\n",
    "# Calculate equity (assuming it's the difference between assets and liabilities)\n",
    "equity = total_assets - total_liabilities\n",
    "\n",
    "# Create a simplified balance sheet\n",
    "balance_sheet = pd.DataFrame({\n",
    "    'Category': ['Assets', 'Liabilities', 'Equity'],\n",
    "    'Amount': [total_assets, total_liabilities, equity]\n",
    "})\n",
    "\n",
    "balance_sheet"
   ]
  },
  {
   "cell_type": "markdown",
   "metadata": {},
   "source": [
    "**11. Find the account with the highest total debit amount. Which account is it, and what is the total debit amount?**"
   ]
  },
  {
   "cell_type": "code",
   "execution_count": 13,
   "metadata": {
    "execution": {
     "iopub.execute_input": "2023-09-12T17:14:59.995148Z",
     "iopub.status.busy": "2023-09-12T17:14:59.994745Z",
     "iopub.status.idle": "2023-09-12T17:15:00.022251Z",
     "shell.execute_reply": "2023-09-12T17:15:00.021125Z",
     "shell.execute_reply.started": "2023-09-12T17:14:59.995111Z"
    }
   },
   "outputs": [
    {
     "data": {
      "text/html": [
       "<div>\n",
       "<style scoped>\n",
       "    .dataframe tbody tr th:only-of-type {\n",
       "        vertical-align: middle;\n",
       "    }\n",
       "\n",
       "    .dataframe tbody tr th {\n",
       "        vertical-align: top;\n",
       "    }\n",
       "\n",
       "    .dataframe thead th {\n",
       "        text-align: right;\n",
       "    }\n",
       "</style>\n",
       "<table border=\"1\" class=\"dataframe\">\n",
       "  <thead>\n",
       "    <tr style=\"text-align: right;\">\n",
       "      <th></th>\n",
       "      <th>Account</th>\n",
       "      <th>Debit</th>\n",
       "    </tr>\n",
       "  </thead>\n",
       "  <tbody>\n",
       "    <tr>\n",
       "      <th>0</th>\n",
       "      <td>Inventory</td>\n",
       "      <td>15282657.25</td>\n",
       "    </tr>\n",
       "    <tr>\n",
       "      <th>1</th>\n",
       "      <td>Accounts Receivable</td>\n",
       "      <td>15272312.94</td>\n",
       "    </tr>\n",
       "    <tr>\n",
       "      <th>2</th>\n",
       "      <td>Accounts Payable</td>\n",
       "      <td>15152628.73</td>\n",
       "    </tr>\n",
       "    <tr>\n",
       "      <th>3</th>\n",
       "      <td>Cash</td>\n",
       "      <td>15067137.91</td>\n",
       "    </tr>\n",
       "  </tbody>\n",
       "</table>\n",
       "</div>"
      ],
      "text/plain": [
       "               Account        Debit\n",
       "0            Inventory  15282657.25\n",
       "1  Accounts Receivable  15272312.94\n",
       "2     Accounts Payable  15152628.73\n",
       "3                 Cash  15067137.91"
      ]
     },
     "execution_count": 13,
     "metadata": {},
     "output_type": "execute_result"
    }
   ],
   "source": [
    "account_debt = df.groupby(\"Account\")[\"Debit\"].agg(\"sum\").sort_values(ascending = False).to_frame().reset_index()\n",
    "account_debt"
   ]
  },
  {
   "cell_type": "code",
   "execution_count": 14,
   "metadata": {
    "execution": {
     "iopub.execute_input": "2023-09-12T17:30:10.102845Z",
     "iopub.status.busy": "2023-09-12T17:30:10.102471Z",
     "iopub.status.idle": "2023-09-12T17:30:10.109914Z",
     "shell.execute_reply": "2023-09-12T17:30:10.108768Z",
     "shell.execute_reply.started": "2023-09-12T17:30:10.102816Z"
    }
   },
   "outputs": [
    {
     "name": "stdout",
     "output_type": "stream",
     "text": [
      "The account 'Inventory' has highest debt = $15,282,657.25\n"
     ]
    }
   ],
   "source": [
    "print(\"The account\", \"'\" + account_debt[\"Account\"].iloc[0] + \"'\", \"has highest debt\", \"= $\" + str(\"{:,}\".format(account_debt[\"Debit\"].iloc[0])))"
   ]
  },
  {
   "cell_type": "markdown",
   "metadata": {},
   "source": [
    "**12. Identify all the transactions where the transaction type is \"Sale.\" How many sale transactions are there, and what is the total sales revenue?**"
   ]
  },
  {
   "cell_type": "code",
   "execution_count": 15,
   "metadata": {
    "execution": {
     "iopub.execute_input": "2023-09-12T17:55:58.121519Z",
     "iopub.status.busy": "2023-09-12T17:55:58.121126Z",
     "iopub.status.idle": "2023-09-12T17:55:58.151803Z",
     "shell.execute_reply": "2023-09-12T17:55:58.150744Z",
     "shell.execute_reply.started": "2023-09-12T17:55:58.121485Z"
    }
   },
   "outputs": [
    {
     "name": "stdout",
     "output_type": "stream",
     "text": [
      "Total Sale Transactions are = 25040 and Total Sale Revenue = $13,705,912.88\n"
     ]
    }
   ],
   "source": [
    "sale_transactions = df[df[\"Transaction_Type\"] == \"Sale\"]\n",
    "sale_transactions_revenue = sale_transactions[\"Credit\"].sum()\n",
    "print(\"Total Sale Transactions are =\", len(sale_transactions), \"and Total Sale Revenue =\", \"$\" + str(\"{:,}\".format(sale_transactions_revenue)))"
   ]
  },
  {
   "cell_type": "markdown",
   "metadata": {},
   "source": [
    "**13. Calculate the average debit and credit amounts for all transactions in the dataset. Are they approximately equal?**"
   ]
  },
  {
   "cell_type": "code",
   "execution_count": 16,
   "metadata": {
    "execution": {
     "iopub.execute_input": "2023-09-12T18:10:17.038662Z",
     "iopub.status.busy": "2023-09-12T18:10:17.038272Z",
     "iopub.status.idle": "2023-09-12T18:10:17.046659Z",
     "shell.execute_reply": "2023-09-12T18:10:17.045473Z",
     "shell.execute_reply.started": "2023-09-12T18:10:17.038632Z"
    }
   },
   "outputs": [
    {
     "name": "stdout",
     "output_type": "stream",
     "text": [
      "Average Debit = 607.75 and Average Credit = 607.75\n"
     ]
    }
   ],
   "source": [
    "avg_debit = df[\"Debit\"].mean()\n",
    "avg_credit = df[\"Credit\"].mean()\n",
    "print(\"Average Debit =\", str(\"{:,}\".format(avg_debit.round(2))), \"and Average Credit =\", str(\"{:,}\".format(avg_credit.round(2))))"
   ]
  },
  {
   "cell_type": "markdown",
   "metadata": {},
   "source": [
    "**14. Find all the transactions that involve \"Cash\" as the payment method. How many transactions are there, and what is the total amount of cash involved**"
   ]
  },
  {
   "cell_type": "code",
   "execution_count": 17,
   "metadata": {
    "execution": {
     "iopub.execute_input": "2023-09-12T19:11:28.593521Z",
     "iopub.status.busy": "2023-09-12T19:11:28.593127Z",
     "iopub.status.idle": "2023-09-12T19:11:28.624024Z",
     "shell.execute_reply": "2023-09-12T19:11:28.622612Z",
     "shell.execute_reply.started": "2023-09-12T19:11:28.593487Z"
    }
   },
   "outputs": [
    {
     "name": "stdout",
     "output_type": "stream",
     "text": [
      "Total Cash Transactions are 24949 and Total Amount of Cash Involved $15,147,309.99\n"
     ]
    }
   ],
   "source": [
    "cash_transactions = df[df[\"Payment_Method\"] == \"Cash\"]\n",
    "cash_transactions_amount = cash_transactions[\"Debit\"].sum()\n",
    "\n",
    "print(\"Total Cash Transactions are\", len(cash_transactions), \n",
    "      \"and Total Amount of Cash Involved\", \"$\" + str(\"{:,}\".format(cash_transactions_amount.round(2))))"
   ]
  },
  {
   "cell_type": "markdown",
   "metadata": {},
   "source": [
    "**15. Calculate the average transaction amount for \"Purchase\" transactions. Compare it to the average transaction amount for \"Sale\" transactions.**"
   ]
  },
  {
   "cell_type": "code",
   "execution_count": 18,
   "metadata": {
    "execution": {
     "iopub.execute_input": "2023-09-12T19:31:22.223781Z",
     "iopub.status.busy": "2023-09-12T19:31:22.222736Z",
     "iopub.status.idle": "2023-09-12T19:31:22.279661Z",
     "shell.execute_reply": "2023-09-12T19:31:22.278535Z",
     "shell.execute_reply.started": "2023-09-12T19:31:22.223732Z"
    }
   },
   "outputs": [
    {
     "name": "stdout",
     "output_type": "stream",
     "text": [
      "Average Purchase Transaction Amount = $13,700,675.38\n",
      "Average Sale Transaction Amount = $13,700,675.38\n"
     ]
    }
   ],
   "source": [
    "purchase_transactions = df[df[\"Transaction_Type\"] == \"Purchase\"]\n",
    "sale_transactions = df[df[\"Transaction_Type\"] == \"Sale\"]\n",
    "\n",
    "avg_purchase_amnt = purchase_transactions[\"Debit\"].sum()\n",
    "avg_sale_amnt = purchase_transactions[\"Credit\"].sum()\n",
    "\n",
    "print(\"Average Purchase Transaction Amount =\", \"$\" + str(\"{:,}\".format(avg_purchase_amnt.round(2))))\n",
    "print(\"Average Sale Transaction Amount =\", \"$\" + str(\"{:,}\".format(avg_sale_amnt.round(2))))"
   ]
  },
  {
   "cell_type": "markdown",
   "metadata": {},
   "source": [
    "**16. Generate a summary of the dataset by grouping transactions based on the \"Category\" column (e.g., Expense, Revenue, Asset, Liability). Calculate the total debit and credit amounts for each category.**"
   ]
  },
  {
   "cell_type": "code",
   "execution_count": 19,
   "metadata": {
    "execution": {
     "iopub.execute_input": "2023-09-12T19:37:12.950516Z",
     "iopub.status.busy": "2023-09-12T19:37:12.950108Z",
     "iopub.status.idle": "2023-09-12T19:37:12.976871Z",
     "shell.execute_reply": "2023-09-12T19:37:12.975722Z",
     "shell.execute_reply.started": "2023-09-12T19:37:12.950483Z"
    }
   },
   "outputs": [
    {
     "data": {
      "text/html": [
       "<div>\n",
       "<style scoped>\n",
       "    .dataframe tbody tr th:only-of-type {\n",
       "        vertical-align: middle;\n",
       "    }\n",
       "\n",
       "    .dataframe tbody tr th {\n",
       "        vertical-align: top;\n",
       "    }\n",
       "\n",
       "    .dataframe thead th {\n",
       "        text-align: right;\n",
       "    }\n",
       "</style>\n",
       "<table border=\"1\" class=\"dataframe\">\n",
       "  <thead>\n",
       "    <tr style=\"text-align: right;\">\n",
       "      <th></th>\n",
       "      <th>Category</th>\n",
       "      <th>Debit</th>\n",
       "      <th>Credit</th>\n",
       "    </tr>\n",
       "  </thead>\n",
       "  <tbody>\n",
       "    <tr>\n",
       "      <th>0</th>\n",
       "      <td>Asset</td>\n",
       "      <td>15270030.86</td>\n",
       "      <td>15270030.86</td>\n",
       "    </tr>\n",
       "    <tr>\n",
       "      <th>1</th>\n",
       "      <td>Expense</td>\n",
       "      <td>15163910.14</td>\n",
       "      <td>15163910.14</td>\n",
       "    </tr>\n",
       "    <tr>\n",
       "      <th>2</th>\n",
       "      <td>Liability</td>\n",
       "      <td>15072434.67</td>\n",
       "      <td>15072434.67</td>\n",
       "    </tr>\n",
       "    <tr>\n",
       "      <th>3</th>\n",
       "      <td>Revenue</td>\n",
       "      <td>15268361.16</td>\n",
       "      <td>15268361.16</td>\n",
       "    </tr>\n",
       "  </tbody>\n",
       "</table>\n",
       "</div>"
      ],
      "text/plain": [
       "    Category        Debit       Credit\n",
       "0      Asset  15270030.86  15270030.86\n",
       "1    Expense  15163910.14  15163910.14\n",
       "2  Liability  15072434.67  15072434.67\n",
       "3    Revenue  15268361.16  15268361.16"
      ]
     },
     "execution_count": 19,
     "metadata": {},
     "output_type": "execute_result"
    }
   ],
   "source": [
    "summary = df.groupby(\"Category\")[[\"Debit\", \"Credit\"]].agg(\"sum\").reset_index()\n",
    "summary"
   ]
  }
 ],
 "metadata": {
  "kernelspec": {
   "display_name": "Python 3 (ipykernel)",
   "language": "python",
   "name": "python3"
  },
  "language_info": {
   "codemirror_mode": {
    "name": "ipython",
    "version": 3
   },
   "file_extension": ".py",
   "mimetype": "text/x-python",
   "name": "python",
   "nbconvert_exporter": "python",
   "pygments_lexer": "ipython3",
   "version": "3.10.9"
  }
 },
 "nbformat": 4,
 "nbformat_minor": 4
}
